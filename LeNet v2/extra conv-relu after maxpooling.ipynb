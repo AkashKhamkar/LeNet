{
 "cells": [
  {
   "cell_type": "code",
   "execution_count": 1,
   "metadata": {},
   "outputs": [
    {
     "name": "stderr",
     "output_type": "stream",
     "text": [
      "Using TensorFlow backend.\n"
     ]
    }
   ],
   "source": [
    "from keras import backend as k\n",
    "from keras.models import Sequential\n",
    "from keras.layers.convolutional import Conv2D\n",
    "from keras.layers.convolutional import MaxPooling2D\n",
    "from keras.layers.core import Activation\n",
    "from keras.layers.core import Flatten\n",
    "from keras.layers.core import Dense\n",
    "from keras.datasets import mnist\n",
    "from keras.utils import np_utils\n",
    "from keras.optimizers import SGD,RMSprop, Adam\n",
    "import numpy as np\n",
    "import matplotlib.pyplot as plt"
   ]
  },
  {
   "cell_type": "code",
   "execution_count": 3,
   "metadata": {},
   "outputs": [],
   "source": [
    "#define the ConvNet\n",
    "class LeNetv1:\n",
    "    @staticmethod\n",
    "    def build(input_shape, classes):\n",
    "        model = Sequential()\n",
    "        # CONV => RELU => POOL\n",
    "        model.add(Conv2D(20, kernel_size=5, padding=\"same\", input_shape=input_shape))\n",
    "        model.add(Activation(\"relu\"))\n",
    "        model.add(MaxPooling2D(pool_size=(2,2), strides=(2,2)))\n",
    "        # CONV => RELU => POOL\n",
    "        model.add(Conv2D(50, kernel_size=5, padding=\"same\"))\n",
    "        model.add(Activation(\"relu\"))\n",
    "        model.add(MaxPooling2D(pool_size=(2,2), strides=(2,2)))\n",
    "        # CONV => RELU => POOL\n",
    "        model.add(Conv2D(30, kernel_size=5, padding=\"same\"))\n",
    "        model.add(Activation(\"relu\"))\n",
    "        model.add(MaxPooling2D(pool_size=(2,2), strides=(2,2)))\n",
    "        # CONV => RELU => CONV => RELU => MAXPOOLING => CONV => RELU \n",
    "        model.add(Conv2D(70, kernel_size=5, padding=\"same\"))\n",
    "        model.add(Activation(\"relu\"))\n",
    "        model.add(Conv2D(70, kernel_size=5, padding=\"same\"))\n",
    "        model.add(Activation(\"relu\"))\n",
    "        model.add(MaxPooling2D(pool_size=(2,2), strides=(2,2)))\n",
    "        model.add(Conv2D(50, kernel_size=2, padding=\"same\"))\n",
    "        model.add(Activation(\"relu\"))\n",
    "        # FLATTEN => RELU LAYERS\n",
    "        model.add(Flatten())\n",
    "        model.add(Dense(500)) #dense network of 500 neurons \n",
    "        model.add(Activation(\"relu\"))\n",
    "        # SOFTMAX CLASSIFIER\n",
    "        model.add(Dense(classes))\n",
    "        model.add(Activation(\"softmax\"))\n",
    "        return model"
   ]
  },
  {
   "cell_type": "code",
   "execution_count": 4,
   "metadata": {},
   "outputs": [
    {
     "name": "stdout",
     "output_type": "stream",
     "text": [
      "60000 train samples\n",
      "10000 test samples\n",
      "Train on 48000 samples, validate on 12000 samples\n",
      "Epoch 1/20\n",
      "48000/48000 [==============================] - 7s 149us/step - loss: 0.3930 - acc: 0.8652 - val_loss: 0.0837 - val_acc: 0.9754\n",
      "Epoch 2/20\n",
      "48000/48000 [==============================] - 5s 103us/step - loss: 0.0770 - acc: 0.9762 - val_loss: 0.0645 - val_acc: 0.9804\n",
      "Epoch 3/20\n",
      "48000/48000 [==============================] - 5s 103us/step - loss: 0.0517 - acc: 0.9843 - val_loss: 0.0469 - val_acc: 0.9857 l\n",
      "Epoch 4/20\n",
      "48000/48000 [==============================] - 5s 103us/step - loss: 0.0393 - acc: 0.9875 - val_loss: 0.0424 - val_acc: 0.9877\n",
      "Epoch 5/20\n",
      "48000/48000 [==============================] - 5s 105us/step - loss: 0.0298 - acc: 0.9910 - val_loss: 0.0435 - val_acc: 0.9872\n",
      "Epoch 6/20\n",
      "48000/48000 [==============================] - 5s 104us/step - loss: 0.0270 - acc: 0.9919 - val_loss: 0.0446 - val_acc: 0.9882\n",
      "Epoch 7/20\n",
      "48000/48000 [==============================] - 5s 103us/step - loss: 0.0228 - acc: 0.9930 - val_loss: 0.0408 - val_acc: 0.9891 0s - loss: 0.0225\n",
      "Epoch 8/20\n",
      "48000/48000 [==============================] - 5s 103us/step - loss: 0.0210 - acc: 0.9935 - val_loss: 0.0324 - val_acc: 0.9909 - acc: - ETA: 1s - loss: 0.0216 - - ETA: 0s - loss: 0.0213 - acc - ETA: 0s - loss: 0.0213 - acc: 0.9\n",
      "Epoch 9/20\n",
      "48000/48000 [==============================] - 5s 104us/step - loss: 0.0173 - acc: 0.9945 - val_loss: 0.0364 - val_acc: 0.9897\n",
      "Epoch 10/20\n",
      "48000/48000 [==============================] - 5s 104us/step - loss: 0.0143 - acc: 0.9957 - val_loss: 0.0449 - val_acc: 0.9886\n",
      "Epoch 11/20\n",
      "48000/48000 [==============================] - 5s 103us/step - loss: 0.0123 - acc: 0.9961 - val_loss: 0.0533 - val_acc: 0.9857\n",
      "Epoch 12/20\n",
      "48000/48000 [==============================] - 5s 104us/step - loss: 0.0131 - acc: 0.9962 - val_loss: 0.0461 - val_acc: 0.9892\n",
      "Epoch 13/20\n",
      "48000/48000 [==============================] - 5s 104us/step - loss: 0.0134 - acc: 0.9960 - val_loss: 0.0422 - val_acc: 0.9901: 1s - loss: 0.0145 - acc: 0. - ETA: 1s - loss: 0.014 - ETA: 0s - loss: 0.0139 - ac\n",
      "Epoch 14/20\n",
      "48000/48000 [==============================] - 5s 104us/step - loss: 0.0123 - acc: 0.9966 - val_loss: 0.0353 - val_acc: 0.9916\n",
      "Epoch 15/20\n",
      "48000/48000 [==============================] - 5s 104us/step - loss: 0.0109 - acc: 0.9967 - val_loss: 0.0430 - val_acc: 0.98970 -  - ETA: 1s -\n",
      "Epoch 16/20\n",
      "48000/48000 [==============================] - 5s 104us/step - loss: 0.0118 - acc: 0.9963 - val_loss: 0.0444 - val_acc: 0.9902\n",
      "Epoch 17/20\n",
      "48000/48000 [==============================] - 5s 105us/step - loss: 0.0114 - acc: 0.9964 - val_loss: 0.0410 - val_acc: 0.9905\n",
      "Epoch 18/20\n",
      "48000/48000 [==============================] - 5s 104us/step - loss: 0.0070 - acc: 0.9977 - val_loss: 0.0477 - val_acc: 0.9896s - loss: 0.0069 - acc: 0.997\n",
      "Epoch 19/20\n",
      "48000/48000 [==============================] - 5s 104us/step - loss: 0.0074 - acc: 0.9979 - val_loss: 0.0707 - val_acc: 0.9852\n",
      "Epoch 20/20\n",
      "48000/48000 [==============================] - 5s 104us/step - loss: 0.0069 - acc: 0.9979 - val_loss: 0.0521 - val_acc: 0.9902\n",
      "10000/10000 [==============================] - 1s 90us/step\n",
      "Test Score: 0.02990956473332335\n",
      "Test Accuracy: 0.9929\n",
      "dict_keys(['val_loss', 'val_acc', 'loss', 'acc'])\n"
     ]
    }
   ],
   "source": [
    "# NETWORK & TRAINING\n",
    "NB_EPOCH = 20\n",
    "BATCH_SIZE = 128\n",
    "VERBOSE = 1\n",
    "OPTIMIZER = Adam()\n",
    "VALIDATION_SPLIT = 0.2\n",
    "IMG_ROWS, IMG_COLS = 28, 28 #INPUT IMAGE DIMENSIONS\n",
    "NB_CLASSES = 10 # NUMBER OF OUTPUTS = NUMBER OF DIGITS\n",
    "INPUT_SHAPE = (1, IMG_ROWS, IMG_COLS)\n",
    "# DATA SHUFFLED AND SPLIT BETWEEN TRAIN AND TEST SETS\n",
    "(X_train, y_train), (X_test, y_test) = mnist.load_data()\n",
    "k.set_image_dim_ordering(\"th\")\n",
    "# CONSIDER THE AS FLOAT AND NORMALIZE\n",
    "X_train = X_train.astype('float32')\n",
    "X_test = X_test.astype('float32')\n",
    "X_train /= 255\n",
    "X_test /= 255\n",
    "# WE NEED A 60K x [1 x 28 x 28] SHAPE AS INPUT TO THE CONVNET \n",
    "X_train = X_train[:, np.newaxis, :, :]\n",
    "X_test = X_test[:, np.newaxis, :, :]\n",
    "print(X_train.shape[0], 'train samples')\n",
    "print(X_test.shape[0], 'test samples')\n",
    "# CONVERT CLASS VECTORS TO BINARY CLASS MATRICES\n",
    "y_train = np_utils.to_categorical(y_train, NB_CLASSES) \n",
    "y_test = np_utils.to_categorical(y_test, NB_CLASSES)\n",
    "# INITIALIZE THE OPTIMIZER AND MODEL \n",
    "model = LeNetv1.build(input_shape=INPUT_SHAPE, classes=NB_CLASSES)\n",
    "model.compile(loss=\"categorical_crossentropy\", optimizer=OPTIMIZER, metrics=[\"accuracy\"])\n",
    "history = model.fit(X_train, y_train, batch_size=BATCH_SIZE, epochs=NB_EPOCH, verbose=VERBOSE, validation_split=VALIDATION_SPLIT)\n",
    "score = model.evaluate(X_test, y_test, verbose=VERBOSE)\n",
    "print(\"Test Score:\", score[0])\n",
    "print(\"Test Accuracy:\", score[1])\n",
    "# LIST ALL DATA IN HISTORY\n",
    "print(history.history.keys())"
   ]
  },
  {
   "cell_type": "code",
   "execution_count": 5,
   "metadata": {},
   "outputs": [
    {
     "data": {
      "text/plain": [
       "<function matplotlib.pyplot.show(*args, **kw)>"
      ]
     },
     "execution_count": 5,
     "metadata": {},
     "output_type": "execute_result"
    },
    {
     "data": {
      "image/png": "[encoded data removed]",
      "text/plain": [
       "<matplotlib.figure.Figure at 0x2cc2ed75b70>"
      ]
     },
     "metadata": {},
     "output_type": "display_data"
    }
   ],
   "source": [
    "# SUMMARIZE HISTORY FOR ACCURACY\n",
    "plt.plot(history.history['acc'])\n",
    "plt.plot(history.history['val_acc'])\n",
    "plt.title('model accuracy')\n",
    "plt.ylabel('accuracy')\n",
    "plt.xlabel('epoch')\n",
    "plt.legend(['train','test'], loc='upper left')\n",
    "plt.show"
   ]
  },
  {
   "cell_type": "code",
   "execution_count": 6,
   "metadata": {},
   "outputs": [
    {
     "data": {
      "text/plain": [
       "<function matplotlib.pyplot.show(*args, **kw)>"
      ]
     },
     "execution_count": 6,
     "metadata": {},
     "output_type": "execute_result"
    },
    {
     "data": {
      "image/png": "[encoded data removed]",
      "text/plain": [
       "<matplotlib.figure.Figure at 0x2cd77572e48>"
      ]
     },
     "metadata": {},
     "output_type": "display_data"
    }
   ],
   "source": [
    "# SUMMARIZE HISTORY FOR LOSS\n",
    "plt.plot(history.history['loss'])\n",
    "plt.plot(history.history['val_loss'])\n",
    "plt.title('model accuracy')\n",
    "plt.ylabel('loss')\n",
    "plt.xlabel('epoch')\n",
    "plt.legend(['train','test'], loc='upper left')\n",
    "plt.show"
   ]
  },
  {
   "cell_type": "code",
   "execution_count": null,
   "metadata": {},
   "outputs": [],
   "source": []
  }
 ],
 "metadata": {
  "kernelspec": {
   "display_name": "Python 3",
   "language": "python",
   "name": "python3"
  },
  "language_info": {
   "codemirror_mode": {
    "name": "ipython",
    "version": 3
   },
   "file_extension": ".py",
   "mimetype": "text/x-python",
   "name": "python",
   "nbconvert_exporter": "python",
   "pygments_lexer": "ipython3",
   "version": "3.6.4"
  }
 },
 "nbformat": 4,
 "nbformat_minor": 2
}
