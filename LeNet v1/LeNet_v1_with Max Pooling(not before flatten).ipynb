{
 "cells": [
  {
   "cell_type": "code",
   "execution_count": 11,
   "metadata": {},
   "outputs": [],
   "source": [
    "from keras import backend as k\n",
    "from keras.models import Sequential\n",
    "from keras.layers.convolutional import Conv2D\n",
    "from keras.layers.convolutional import MaxPooling2D\n",
    "from keras.layers.core import Activation\n",
    "from keras.layers.core import Flatten\n",
    "from keras.layers.core import Dense\n",
    "from keras.datasets import mnist\n",
    "from keras.utils import np_utils\n",
    "from keras.optimizers import SGD,RMSprop, Adam\n",
    "import numpy as np\n",
    "import matplotlib.pyplot as plt"
   ]
  },
  {
   "cell_type": "code",
   "execution_count": 12,
   "metadata": {},
   "outputs": [],
   "source": [
    "#define the ConvNet\n",
    "class LeNetv1:\n",
    "    @staticmethod\n",
    "    def build(input_shape, classes):\n",
    "        model = Sequential()\n",
    "        # CONV => RELU => POOL\n",
    "        model.add(Conv2D(20, kernel_size=5, padding=\"same\", input_shape=input_shape))\n",
    "        model.add(Activation(\"relu\"))\n",
    "        model.add(MaxPooling2D(pool_size=(2,2), strides=(2,2)))\n",
    "        # CONV => RELU => POOL\n",
    "        model.add(Conv2D(50, kernel_size=5, padding=\"same\"))\n",
    "        model.add(Activation(\"relu\"))\n",
    "        model.add(MaxPooling2D(pool_size=(2,2), strides=(2,2)))\n",
    "        # CONV => RELU => CONV => RELU \n",
    "        model.add(Conv2D(70, kernel_size=2, padding=\"valid\"))\n",
    "        model.add(Activation(\"relu\"))\n",
    "        model.add(Conv2D(70, kernel_size=2, padding=\"valid\"))\n",
    "        model.add(Activation(\"relu\"))\n",
    "        # FLATTEN => RELU LAYERS\n",
    "        model.add(Flatten())\n",
    "        model.add(Dense(500)) #dense network of 500 neurons \n",
    "        model.add(Activation(\"relu\"))\n",
    "        # SOFTMAX CLASSIFIER\n",
    "        model.add(Dense(classes))\n",
    "        model.add(Activation(\"softmax\"))\n",
    "        return model"
   ]
  },
  {
   "cell_type": "code",
   "execution_count": 13,
   "metadata": {},
   "outputs": [
    {
     "name": "stdout",
     "output_type": "stream",
     "text": [
      "60000 train samples\n",
      "10000 test samples\n",
      "Train on 48000 samples, validate on 12000 samples\n",
      "Epoch 1/20\n",
      "48000/48000 [==============================] - 6s 134us/step - loss: 0.1957 - acc: 0.9385 - val_loss: 0.0721 - val_acc: 0.9760\n",
      "Epoch 2/20\n",
      "48000/48000 [==============================] - 4s 94us/step - loss: 0.0516 - acc: 0.9833 - val_loss: 0.0446 - val_acc: 0.9862\n",
      "Epoch 3/20\n",
      "48000/48000 [==============================] - 4s 92us/step - loss: 0.0349 - acc: 0.9886 - val_loss: 0.0368 - val_acc: 0.9887\n",
      "Epoch 4/20\n",
      "48000/48000 [==============================] - 4s 93us/step - loss: 0.0250 - acc: 0.9923 - val_loss: 0.0394 - val_acc: 0.9884\n",
      "Epoch 5/20\n",
      "48000/48000 [==============================] - 4s 93us/step - loss: 0.0212 - acc: 0.9933 - val_loss: 0.0392 - val_acc: 0.9880\n",
      "Epoch 6/20\n",
      "48000/48000 [==============================] - 4s 93us/step - loss: 0.0175 - acc: 0.9944 - val_loss: 0.0373 - val_acc: 0.9902\n",
      "Epoch 7/20\n",
      "48000/48000 [==============================] - 4s 92us/step - loss: 0.0145 - acc: 0.9954 - val_loss: 0.0400 - val_acc: 0.9910\n",
      "Epoch 8/20\n",
      "48000/48000 [==============================] - 4s 92us/step - loss: 0.0110 - acc: 0.9965 - val_loss: 0.0403 - val_acc: 0.9894\n",
      "Epoch 9/20\n",
      "48000/48000 [==============================] - 4s 92us/step - loss: 0.0116 - acc: 0.9962 - val_loss: 0.0547 - val_acc: 0.9862\n",
      "Epoch 10/20\n",
      "48000/48000 [==============================] - 4s 91us/step - loss: 0.0112 - acc: 0.9964 - val_loss: 0.0319 - val_acc: 0.9914\n",
      "Epoch 11/20\n",
      "48000/48000 [==============================] - 4s 92us/step - loss: 0.0084 - acc: 0.9971 - val_loss: 0.0467 - val_acc: 0.9879\n",
      "Epoch 12/20\n",
      "48000/48000 [==============================] - 4s 92us/step - loss: 0.0096 - acc: 0.9966 - val_loss: 0.0369 - val_acc: 0.9904\n",
      "Epoch 13/20\n",
      "48000/48000 [==============================] - 4s 92us/step - loss: 0.0086 - acc: 0.9971 - val_loss: 0.0413 - val_acc: 0.9904\n",
      "Epoch 14/20\n",
      "48000/48000 [==============================] - 4s 92us/step - loss: 0.0091 - acc: 0.9971 - val_loss: 0.0443 - val_acc: 0.9909\n",
      "Epoch 15/20\n",
      "48000/48000 [==============================] - 4s 92us/step - loss: 0.0057 - acc: 0.9981 - val_loss: 0.0404 - val_acc: 0.9917\n",
      "Epoch 16/20\n",
      "48000/48000 [==============================] - 4s 90us/step - loss: 0.0072 - acc: 0.9975 - val_loss: 0.0539 - val_acc: 0.9899\n",
      "Epoch 17/20\n",
      "48000/48000 [==============================] - 4s 91us/step - loss: 0.0063 - acc: 0.9977 - val_loss: 0.0473 - val_acc: 0.9909\n",
      "Epoch 18/20\n",
      "48000/48000 [==============================] - 4s 90us/step - loss: 0.0059 - acc: 0.9980 - val_loss: 0.0451 - val_acc: 0.9914\n",
      "Epoch 19/20\n",
      "48000/48000 [==============================] - 4s 91us/step - loss: 0.0064 - acc: 0.9978 - val_loss: 0.0466 - val_acc: 0.9906\n",
      "Epoch 20/20\n",
      "48000/48000 [==============================] - 4s 90us/step - loss: 0.0048 - acc: 0.9985 - val_loss: 0.0451 - val_acc: 0.9922\n",
      "10000/10000 [==============================] - 1s 65us/step\n",
      "Test Score: 0.03153091483251353\n",
      "Test Accuracy: 0.9935\n",
      "dict_keys(['val_loss', 'val_acc', 'loss', 'acc'])\n"
     ]
    }
   ],
   "source": [
    "# NETWORK & TRAINING\n",
    "NB_EPOCH = 20\n",
    "BATCH_SIZE = 128\n",
    "VERBOSE = 1\n",
    "OPTIMIZER = Adam()\n",
    "VALIDATION_SPLIT = 0.2\n",
    "IMG_ROWS, IMG_COLS = 28, 28 #INPUT IMAGE DIMENSIONS\n",
    "NB_CLASSES = 10 # NUMBER OF OUTPUTS = NUMBER OF DIGITS\n",
    "INPUT_SHAPE = (1, IMG_ROWS, IMG_COLS)\n",
    "# DATA SHUFFLED AND SPLIT BETWEEN TRAIN AND TEST SETS\n",
    "(X_train, y_train), (X_test, y_test) = mnist.load_data()\n",
    "k.set_image_dim_ordering(\"th\")\n",
    "# CONSIDER THE AS FLOAT AND NORMALIZE\n",
    "X_train = X_train.astype('float32')\n",
    "X_test = X_test.astype('float32')\n",
    "X_train /= 255\n",
    "X_test /= 255\n",
    "# WE NEED A 60K x [1 x 28 x 28] SHAPE AS INPUT TO THE CONVNET \n",
    "X_train = X_train[:, np.newaxis, :, :]\n",
    "X_test = X_test[:, np.newaxis, :, :]\n",
    "print(X_train.shape[0], 'train samples')\n",
    "print(X_test.shape[0], 'test samples')\n",
    "# CONVERT CLASS VECTORS TO BINARY CLASS MATRICES\n",
    "y_train = np_utils.to_categorical(y_train, NB_CLASSES) \n",
    "y_test = np_utils.to_categorical(y_test, NB_CLASSES)\n",
    "# INITIALIZE THE OPTIMIZER AND MODEL \n",
    "model = LeNetv1.build(input_shape=INPUT_SHAPE, classes=NB_CLASSES)\n",
    "model.compile(loss=\"categorical_crossentropy\", optimizer=OPTIMIZER, metrics=[\"accuracy\"])\n",
    "history = model.fit(X_train, y_train, batch_size=BATCH_SIZE, epochs=NB_EPOCH, verbose=VERBOSE, validation_split=VALIDATION_SPLIT)\n",
    "score = model.evaluate(X_test, y_test, verbose=VERBOSE)\n",
    "print(\"Test Score:\", score[0])\n",
    "print(\"Test Accuracy:\", score[1])\n",
    "# LIST ALL DATA IN HISTORY\n",
    "print(history.history.keys())"
   ]
  },
  {
   "cell_type": "code",
   "execution_count": 14,
   "metadata": {},
   "outputs": [
    {
     "data": {
      "text/plain": [
       "<function matplotlib.pyplot.show(*args, **kw)>"
      ]
     },
     "execution_count": 14,
     "metadata": {},
     "output_type": "execute_result"
    },
    {
     "data": {
      "image/png": "[encoded data removed]",
      "text/plain": [
       "<matplotlib.figure.Figure at 0x1ed71de5588>"
      ]
     },
     "metadata": {},
     "output_type": "display_data"
    }
   ],
   "source": [
    "# SUMMARIZE HISTORY FOR ACCURACY\n",
    "plt.plot(history.history['acc'])\n",
    "plt.plot(history.history['val_acc'])\n",
    "plt.title('model accuracy')\n",
    "plt.ylabel('accuracy')\n",
    "plt.xlabel('epoch')\n",
    "plt.legend(['train','test'], loc='upper left')\n",
    "plt.show"
   ]
  },
  {
   "cell_type": "code",
   "execution_count": 15,
   "metadata": {},
   "outputs": [
    {
     "data": {
      "text/plain": [
       "<function matplotlib.pyplot.show(*args, **kw)>"
      ]
     },
     "execution_count": 15,
     "metadata": {},
     "output_type": "execute_result"
    },
    {
     "data": {
      "image/png": "[encoded data removed]",
      "text/plain": [
       "<matplotlib.figure.Figure at 0x1ed71e57080>"
      ]
     },
     "metadata": {},
     "output_type": "display_data"
    }
   ],
   "source": [
    "# SUMMARIZE HISTORY FOR LOSS\n",
    "plt.plot(history.history['loss'])\n",
    "plt.plot(history.history['val_loss'])\n",
    "plt.title('model accuracy')\n",
    "plt.ylabel('loss')\n",
    "plt.xlabel('epoch')\n",
    "plt.legend(['train','test'], loc='upper left')\n",
    "plt.show"
   ]
  },
  {
   "cell_type": "code",
   "execution_count": null,
   "metadata": {},
   "outputs": [],
   "source": []
  }
 ],
 "metadata": {
  "kernelspec": {
   "display_name": "Python 3",
   "language": "python",
   "name": "python3"
  },
  "language_info": {
   "codemirror_mode": {
    "name": "ipython",
    "version": 3
   },
   "file_extension": ".py",
   "mimetype": "text/x-python",
   "name": "python",
   "nbconvert_exporter": "python",
   "pygments_lexer": "ipython3",
   "version": "3.6.4"
  }
 },
 "nbformat": 4,
 "nbformat_minor": 2
}
