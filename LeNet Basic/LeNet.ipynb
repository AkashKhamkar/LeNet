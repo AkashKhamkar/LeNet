{
 "cells": [
  {
   "cell_type": "code",
   "execution_count": 1,
   "metadata": {},
   "outputs": [
    {
     "name": "stderr",
     "output_type": "stream",
     "text": [
      "Using TensorFlow backend.\n"
     ]
    }
   ],
   "source": [
    "from keras import backend as k\n",
    "from keras.models import Sequential\n",
    "from keras.layers.convolutional import Conv2D\n",
    "from keras.layers.convolutional import MaxPooling2D\n",
    "from keras.layers.core import Activation\n",
    "from keras.layers.core import Flatten\n",
    "from keras.layers.core import Dense\n",
    "from keras.datasets import mnist\n",
    "from keras.utils import np_utils\n",
    "from keras.optimizers import SGD,RMSprop, Adam\n",
    "import numpy as np\n",
    "import matplotlib.pyplot as plt"
   ]
  },
  {
   "cell_type": "code",
   "execution_count": 2,
   "metadata": {},
   "outputs": [],
   "source": [
    "#define the ConvNet\n",
    "class LeNet:\n",
    "    @staticmethod\n",
    "    def build(input_shape, classes):\n",
    "        model = Sequential()\n",
    "        # CONV => RELU => POOL\n",
    "        model.add(Conv2D(20, kernel_size=5, padding=\"same\", input_shape=input_shape))\n",
    "        model.add(Activation(\"relu\"))\n",
    "        model.add(MaxPooling2D(pool_size=(2,2), strides=(2,2)))\n",
    "        # CONV => RELU => POOL\n",
    "        model.add(Conv2D(50, kernel_size=5, padding=\"same\"))\n",
    "        model.add(Activation(\"relu\"))\n",
    "        model.add(MaxPooling2D(pool_size=(2,2), strides=(2,2)))\n",
    "        # FLATTEN => RELU LAYERS\n",
    "        model.add(Flatten())\n",
    "        model.add(Dense(500)) #dense network of 500 neurons \n",
    "        model.add(Activation(\"relu\"))\n",
    "        # SOFTMAX CLASSIFIER\n",
    "        model.add(Dense(classes))\n",
    "        model.add(Activation(\"softmax\"))\n",
    "        return model"
   ]
  },
  {
   "cell_type": "code",
   "execution_count": 3,
   "metadata": {},
   "outputs": [
    {
     "name": "stdout",
     "output_type": "stream",
     "text": [
      "60000 train samples\n",
      "10000 test samples\n"
     ]
    },
    {
     "name": "stderr",
     "output_type": "stream",
     "text": [
      "c:\\users\\akash\\appdata\\local\\programs\\python\\python36\\lib\\site-packages\\ipykernel_launcher.py:11: UserWarning: Update your `Conv2D` call to the Keras 2 API: `Conv2D(50, kernel_size=5, padding=\"same\")`\n",
      "  # This is added back by InteractiveShellApp.init_path()\n"
     ]
    },
    {
     "name": "stdout",
     "output_type": "stream",
     "text": [
      "Train on 48000 samples, validate on 12000 samples\n",
      "Epoch 1/20\n",
      "48000/48000 [==============================] - 7s 142us/step - loss: 0.1951 - acc: 0.9412 - val_loss: 0.0646 - val_acc: 0.9800\n",
      "Epoch 2/20\n",
      "48000/48000 [==============================] - 4s 88us/step - loss: 0.0509 - acc: 0.9839 - val_loss: 0.0441 - val_acc: 0.9866\n",
      "Epoch 3/20\n",
      "48000/48000 [==============================] - 4s 89us/step - loss: 0.0336 - acc: 0.9894 - val_loss: 0.0436 - val_acc: 0.9866\n",
      "Epoch 4/20\n",
      "48000/48000 [==============================] - 4s 89us/step - loss: 0.0241 - acc: 0.9927 - val_loss: 0.0474 - val_acc: 0.9868\n",
      "Epoch 5/20\n",
      "48000/48000 [==============================] - 4s 90us/step - loss: 0.0189 - acc: 0.9940 - val_loss: 0.0382 - val_acc: 0.9886\n",
      "Epoch 6/20\n",
      "48000/48000 [==============================] - 4s 90us/step - loss: 0.0132 - acc: 0.9960 - val_loss: 0.0363 - val_acc: 0.9896\n",
      "Epoch 7/20\n",
      "48000/48000 [==============================] - 4s 89us/step - loss: 0.0109 - acc: 0.9965 - val_loss: 0.0634 - val_acc: 0.9828\n",
      "Epoch 8/20\n",
      "48000/48000 [==============================] - 4s 90us/step - loss: 0.0117 - acc: 0.9959 - val_loss: 0.0364 - val_acc: 0.9900\n",
      "Epoch 9/20\n",
      "48000/48000 [==============================] - 4s 90us/step - loss: 0.0087 - acc: 0.9971 - val_loss: 0.0425 - val_acc: 0.9887\n",
      "Epoch 10/20\n",
      "48000/48000 [==============================] - 4s 84us/step - loss: 0.0073 - acc: 0.9972 - val_loss: 0.0391 - val_acc: 0.9907\n",
      "Epoch 11/20\n",
      "48000/48000 [==============================] - 4s 89us/step - loss: 0.0051 - acc: 0.9983 - val_loss: 0.0504 - val_acc: 0.9902\n",
      "Epoch 12/20\n",
      "48000/48000 [==============================] - 4s 90us/step - loss: 0.0074 - acc: 0.9975 - val_loss: 0.0401 - val_acc: 0.9917\n",
      "Epoch 13/20\n",
      "48000/48000 [==============================] - 4s 89us/step - loss: 0.0047 - acc: 0.9983 - val_loss: 0.0384 - val_acc: 0.9910\n",
      "Epoch 14/20\n",
      "48000/48000 [==============================] - 4s 91us/step - loss: 0.0041 - acc: 0.9987 - val_loss: 0.0414 - val_acc: 0.9915\n",
      "Epoch 15/20\n",
      "48000/48000 [==============================] - 4s 90us/step - loss: 0.0053 - acc: 0.9983 - val_loss: 0.0446 - val_acc: 0.9910\n",
      "Epoch 16/20\n",
      "48000/48000 [==============================] - 4s 90us/step - loss: 0.0017 - acc: 0.9994 - val_loss: 0.0452 - val_acc: 0.9912\n",
      "Epoch 17/20\n",
      "48000/48000 [==============================] - 4s 90us/step - loss: 0.0030 - acc: 0.9991 - val_loss: 0.0533 - val_acc: 0.9889\n",
      "Epoch 18/20\n",
      "48000/48000 [==============================] - 4s 91us/step - loss: 0.0052 - acc: 0.9984 - val_loss: 0.0545 - val_acc: 0.9894\n",
      "Epoch 19/20\n",
      "48000/48000 [==============================] - 4s 90us/step - loss: 0.0047 - acc: 0.9985 - val_loss: 0.0436 - val_acc: 0.9917\n",
      "Epoch 20/20\n",
      "48000/48000 [==============================] - 4s 90us/step - loss: 0.0034 - acc: 0.9990 - val_loss: 0.0456 - val_acc: 0.9907\n",
      "10000/10000 [==============================] - 1s 71us/step\n",
      "Test Score: 0.037524945613933415\n",
      "Test Accuracy: 0.9918\n",
      "dict_keys(['val_loss', 'val_acc', 'loss', 'acc'])\n"
     ]
    }
   ],
   "source": [
    "# NETWORK & TRAINING\n",
    "NB_EPOCH = 20\n",
    "BATCH_SIZE = 128\n",
    "VERBOSE = 1\n",
    "OPTIMIZER = Adam()\n",
    "VALIDATION_SPLIT = 0.2\n",
    "IMG_ROWS, IMG_COLS = 28, 28 #INPUT IMAGE DIMENSIONS\n",
    "NB_CLASSES = 10 # NUMBER OF OUTPUTS = NUMBER OF DIGITS\n",
    "INPUT_SHAPE = (1, IMG_ROWS, IMG_COLS)\n",
    "# DATA SHUFFLED AND SPLIT BETWEEN TRAIN AND TEST SETS\n",
    "(X_train, y_train), (X_test, y_test) = mnist.load_data()\n",
    "k.set_image_dim_ordering(\"th\")\n",
    "# CONSIDER THE AS FLOAT AND NORMALIZE\n",
    "X_train = X_train.astype('float32')\n",
    "X_test = X_test.astype('float32')\n",
    "X_train /= 255\n",
    "X_test /= 255\n",
    "# WE NEED A 60K x [1 x 28 x 28] SHAPE AS INPUT TO THE CONVNET \n",
    "X_train = X_train[:, np.newaxis, :, :]\n",
    "X_test = X_test[:, np.newaxis, :, :]\n",
    "print(X_train.shape[0], 'train samples')\n",
    "print(X_test.shape[0], 'test samples')\n",
    "# CONVERT CLASS VECTORS TO BINARY CLASS MATRICES\n",
    "y_train = np_utils.to_categorical(y_train, NB_CLASSES) \n",
    "y_test = np_utils.to_categorical(y_test, NB_CLASSES)\n",
    "# INITIALIZE THE OPTIMIZER AND MODEL \n",
    "model = LeNet.build(input_shape=INPUT_SHAPE, classes=NB_CLASSES)\n",
    "model.compile(loss=\"categorical_crossentropy\", optimizer=OPTIMIZER, metrics=[\"accuracy\"])\n",
    "history = model.fit(X_train, y_train, batch_size=BATCH_SIZE, epochs=NB_EPOCH, verbose=VERBOSE, validation_split=VALIDATION_SPLIT)\n",
    "score = model.evaluate(X_test, y_test, verbose=VERBOSE)\n",
    "print(\"Test Score:\", score[0])\n",
    "print(\"Test Accuracy:\", score[1])\n",
    "# LIST ALL DATA IN HISTORY\n",
    "print(history.history.keys())"
   ]
  },
  {
   "cell_type": "code",
   "execution_count": 4,
   "metadata": {},
   "outputs": [
    {
     "data": {
      "text/plain": [
       "<function matplotlib.pyplot.show(*args, **kw)>"
      ]
     },
     "execution_count": 4,
     "metadata": {},
     "output_type": "execute_result"
    },
    {
     "data": {
      "image/png": "[encoded data removed]",
      "text/plain": [
       "<matplotlib.figure.Figure at 0x2b169965eb8>"
      ]
     },
     "metadata": {},
     "output_type": "display_data"
    }
   ],
   "source": [
    "# SUMMARIZE HISTORY FOR ACCURACY\n",
    "plt.plot(history.history['acc'])\n",
    "plt.plot(history.history['val_acc'])\n",
    "plt.title('model accuracy')\n",
    "plt.ylabel('accuracy')\n",
    "plt.xlabel('epoch')\n",
    "plt.legend(['train','test'], loc='upper left')\n",
    "plt.show"
   ]
  },
  {
   "cell_type": "code",
   "execution_count": 7,
   "metadata": {},
   "outputs": [
    {
     "data": {
      "text/plain": [
       "<function matplotlib.pyplot.show(*args, **kw)>"
      ]
     },
     "execution_count": 7,
     "metadata": {},
     "output_type": "execute_result"
    },
    {
     "data": {
      "image/png": "[encoded data removed]",
      "text/plain": [
       "<matplotlib.figure.Figure at 0x2b14f6f07f0>"
      ]
     },
     "metadata": {},
     "output_type": "display_data"
    }
   ],
   "source": [
    "# SUMMARIZE HISTORY FOR LOSS\n",
    "plt.plot(history.history['loss'])\n",
    "plt.plot(history.history['val_loss'])\n",
    "plt.title('model accuracy')\n",
    "plt.ylabel('loss')\n",
    "plt.xlabel('epoch')\n",
    "plt.legend(['train','test'], loc='upper left')\n",
    "plt.show"
   ]
  },
  {
   "cell_type": "code",
   "execution_count": null,
   "metadata": {},
   "outputs": [],
   "source": []
  }
 ],
 "metadata": {
  "kernelspec": {
   "display_name": "Python 3",
   "language": "python",
   "name": "python3"
  },
  "language_info": {
   "codemirror_mode": {
    "name": "ipython",
    "version": 3
   },
   "file_extension": ".py",
   "mimetype": "text/x-python",
   "name": "python",
   "nbconvert_exporter": "python",
   "pygments_lexer": "ipython3",
   "version": "3.6.4"
  }
 },
 "nbformat": 4,
 "nbformat_minor": 2
}
